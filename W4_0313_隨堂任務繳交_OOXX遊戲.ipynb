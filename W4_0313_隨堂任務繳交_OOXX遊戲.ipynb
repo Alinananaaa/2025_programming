{
  "nbformat": 4,
  "nbformat_minor": 0,
  "metadata": {
    "colab": {
      "provenance": [],
      "include_colab_link": true
    },
    "kernelspec": {
      "name": "python3",
      "display_name": "Python 3"
    },
    "language_info": {
      "name": "python"
    }
  },
  "cells": [
    {
      "cell_type": "markdown",
      "metadata": {
        "id": "view-in-github",
        "colab_type": "text"
      },
      "source": [
        "<a href=\"https://colab.research.google.com/github/Alinananaaa/2025_programming/blob/main/W4_0313_%E9%9A%A8%E5%A0%82%E4%BB%BB%E5%8B%99%E7%B9%B3%E4%BA%A4_OOXX%E9%81%8A%E6%88%B2.ipynb\" target=\"_parent\"><img src=\"https://colab.research.google.com/assets/colab-badge.svg\" alt=\"Open In Colab\"/></a>"
      ]
    },
    {
      "cell_type": "code",
      "source": [
        "import google.generativeai as genai\n",
        "from google.colab import userdata\n",
        "import random\n",
        "import time\n",
        "import gspread\n",
        "from google.auth import default\n",
        "from gspread_dataframe import set_with_dataframe\n",
        "import pandas as pd"
      ],
      "metadata": {
        "id": "N4QlEC4gAWPf"
      },
      "execution_count": 22,
      "outputs": []
    },
    {
      "cell_type": "code",
      "source": [
        "\n",
        "# Set up Google Gemini AI\n",
        "apikey = userdata.get('GOOGLE_API_KEY')\n",
        "genai.configure(api_key=apikey)\n",
        "model = genai.GenerativeModel(\"gemini-1.5-flash\")\n",
        "\n",
        "# Initialize the Tic-Tac-Toe board\n",
        "def initialize_board():\n",
        "    return [[' ' for _ in range(3)] for _ in range(3)]\n",
        "\n",
        "# Display the board\n",
        "def print_board(board):\n",
        "    for row in board:\n",
        "        print(\" | \".join(row))\n",
        "        print(\"-\" * 9)\n",
        "\n",
        "# Get available moves\n",
        "def get_available_moves(board):\n",
        "    return [(r, c) for r in range(3) for c in range(3) if board[r][c] == ' ']\n",
        "\n",
        "# AI makes a random move\n",
        "def ai_make_move(board, symbol):\n",
        "    available_moves = get_available_moves(board)\n",
        "    if available_moves:\n",
        "        move = random.choice(available_moves)\n",
        "        board[move[0]][move[1]] = symbol\n",
        "        return move\n",
        "    return None\n",
        "\n",
        "# Check for a winner\n",
        "def check_winner(board):\n",
        "    for row in board:\n",
        "        if row[0] == row[1] == row[2] != ' ':\n",
        "            return row[0]\n",
        "\n",
        "    for col in range(3):\n",
        "        if board[0][col] == board[1][col] == board[2][col] != ' ':\n",
        "            return board[0][col]\n",
        "\n",
        "    if board[0][0] == board[1][1] == board[2][2] != ' ':\n",
        "        return board[0][0]\n",
        "\n",
        "    if board[0][2] == board[1][1] == board[2][0] != ' ':\n",
        "        return board[0][2]\n",
        "\n",
        "    return None\n",
        "\n",
        "# AI chat function\n",
        "def ai_chat(player, move, board):\n",
        "    prompt = f\"AI {player} made a move at {move}. Current board:\\n\"\n",
        "    for row in board:\n",
        "        prompt += \" | \".join(row) + \"\\n\"\n",
        "    response = model.generate_content(prompt)\n",
        "    return response.text if response else \"(AI had no response)\"\n",
        "\n",
        "# Play a round\n",
        "def play_tic_tac_toe():\n",
        "    board = initialize_board()\n",
        "    players = ['X', 'O']\n",
        "    conversation_log = []\n",
        "    for turn in range(9):\n",
        "        current_player = players[turn % 2]\n",
        "        move = ai_make_move(board, current_player)\n",
        "        chat_response = ai_chat(current_player, move, board)\n",
        "        conversation_log.append([f\"AI {current_player}\", str(move), chat_response])\n",
        "        print_board(board)\n",
        "\n",
        "        winner = check_winner(board)\n",
        "        if winner:\n",
        "            conversation_log.append([\"Game Over\", \"Winner:\", f\"AI {winner}\"])\n",
        "            break\n",
        "\n",
        "    if not winner:\n",
        "        conversation_log.append([\"Game Over\", \"Result:\", \"Draw\"])\n",
        "\n",
        "    return conversation_log\n"
      ],
      "metadata": {
        "id": "8xzbRpaZAciB"
      },
      "execution_count": 23,
      "outputs": []
    },
    {
      "cell_type": "code",
      "source": [
        "# Authenticate with Google Sheets\n",
        "def authenticate_google_sheets():\n",
        "    creds, _ = default()\n",
        "    return gspread.authorize(creds)"
      ],
      "metadata": {
        "id": "N8IjHHdIAjuX"
      },
      "execution_count": 24,
      "outputs": []
    },
    {
      "cell_type": "code",
      "source": [
        "# Export to Google Sheets\n",
        "def export_to_google_sheets(data, sheet_url):\n",
        "    gc = authenticate_google_sheets()\n",
        "    sheet = gc.open_by_url(sheet_url).sheet1\n",
        "    df = pd.DataFrame(data, columns=['Player', 'Move', 'Chat'])\n",
        "    set_with_dataframe(sheet, df)\n",
        "    print(\"✅ Successfully exported to Google Sheets!\")"
      ],
      "metadata": {
        "id": "yN0Z6leVAnqS"
      },
      "execution_count": 25,
      "outputs": []
    },
    {
      "cell_type": "code",
      "source": [
        "# Run the game twice and export\n",
        "if __name__ == \"__main__\":\n",
        "    auth.authenticate_user()  # Ensure manual authentication in Google Colab\n",
        "    google_sheets_url = \"https://docs.google.com/spreadsheets/d/1VUjumBwc_wUdoAwEzYk3tSa0SQRDNlQ-WQiRQ1gcGZA/edit?usp=sharing\"\n",
        "\n",
        "    full_conversation = []\n",
        "    for round_no in range(2):\n",
        "        print(f\"Round {round_no + 1}\")\n",
        "        round_data = play_tic_tac_toe()\n",
        "        full_conversation.extend(round_data)\n",
        "        time.sleep(2)\n",
        "\n",
        "    # Export to Google Sheets\n",
        "    export_to_google_sheets(full_conversation, google_sheets_url)"
      ],
      "metadata": {
        "colab": {
          "base_uri": "https://localhost:8080/",
          "height": 1000
        },
        "id": "6oGFZerhArlI",
        "outputId": "962bec05-0ffd-4f55-e8ec-49a550c0c1b4"
      },
      "execution_count": 26,
      "outputs": [
        {
          "output_type": "stream",
          "name": "stdout",
          "text": [
            "Round 1\n",
            "  |   |  \n",
            "---------\n",
            "  |   | X\n",
            "---------\n",
            "  |   |  \n",
            "---------\n",
            "  |   |  \n",
            "---------\n",
            "  | O | X\n",
            "---------\n",
            "  |   |  \n",
            "---------\n",
            "  |   | X\n",
            "---------\n",
            "  | O | X\n",
            "---------\n",
            "  |   |  \n",
            "---------\n",
            "  |   | X\n",
            "---------\n",
            "  | O | X\n",
            "---------\n",
            "  | O |  \n",
            "---------\n",
            "  |   | X\n",
            "---------\n",
            "  | O | X\n",
            "---------\n",
            "  | O | X\n",
            "---------\n",
            "Round 2\n",
            "  | X |  \n",
            "---------\n",
            "  |   |  \n",
            "---------\n",
            "  |   |  \n",
            "---------\n",
            "O | X |  \n",
            "---------\n",
            "  |   |  \n",
            "---------\n",
            "  |   |  \n",
            "---------\n",
            "O | X |  \n",
            "---------\n",
            "  |   |  \n",
            "---------\n",
            "X |   |  \n",
            "---------\n",
            "O | X |  \n",
            "---------\n",
            "  |   | O\n",
            "---------\n",
            "X |   |  \n",
            "---------\n",
            "O | X |  \n",
            "---------\n",
            "  |   | O\n",
            "---------\n",
            "X |   | X\n",
            "---------\n",
            "O | X |  \n",
            "---------\n",
            "  | O | O\n",
            "---------\n",
            "X |   | X\n",
            "---------\n",
            "O | X |  \n",
            "---------\n",
            "  | O | O\n",
            "---------\n",
            "X | X | X\n",
            "---------\n",
            "✅ Successfully exported to Google Sheets!\n"
          ]
        }
      ]
    }
  ]
}